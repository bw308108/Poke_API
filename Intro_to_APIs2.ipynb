{
 "cells": [
  {
   "cell_type": "markdown",
   "id": "7196054f",
   "metadata": {},
   "source": [
    "# Working with APIs"
   ]
  },
  {
   "cell_type": "markdown",
   "id": "0547b71e",
   "metadata": {},
   "source": [
    "API stands for Application programming interface<br>\n",
    "APIs are a way for applications to talk to eachother<br>\n",
    "In python we use the requests package to handle the connection<br>\n",
    "<small><strong>Note: It is requests with an s not request(this is a different package)</strong></small><br>\n",
    "Most API's communicate with data in the form of JSON<br>\n",
    "JSON stands for JavaScript Object Notation"
   ]
  },
  {
   "cell_type": "code",
   "execution_count": 1,
   "id": "4db9d154",
   "metadata": {},
   "outputs": [],
   "source": [
    "#import the packages we need:\n",
    "import requests "
   ]
  },
  {
   "cell_type": "markdown",
   "id": "e8c2ce51",
   "metadata": {},
   "source": [
    "We will be connecting to the Ergast F1 Racer API today:\n",
    "http://ergast.com/mrd/\n",
    "\n",
    "to view JSON data nicely in the Chrome browser install the extension JSONview"
   ]
  },
  {
   "cell_type": "code",
   "execution_count": 2,
   "id": "52c440c6",
   "metadata": {},
   "outputs": [],
   "source": [
    "#make sure to attach extension .json\n",
    "url = 'http://ergast.com/api/f1/2008/5/driverStandings.json'"
   ]
  },
  {
   "cell_type": "code",
   "execution_count": 3,
   "id": "f60c1b4a",
   "metadata": {},
   "outputs": [
    {
     "data": {
      "text/plain": [
       "<Response [200]>"
      ]
     },
     "execution_count": 3,
     "metadata": {},
     "output_type": "execute_result"
    }
   ],
   "source": [
    "response = requests.get(url)"
   ]
  },
  {
   "cell_type": "code",
   "execution_count": 8,
   "id": "7b63a204",
   "metadata": {},
   "outputs": [
    {
     "data": {
      "text/plain": [
       "True"
      ]
     },
     "execution_count": 8,
     "metadata": {},
     "output_type": "execute_result"
    }
   ],
   "source": [
    "#response object\n",
    "#checking and making sure we got a successful from API\n",
    "response = requests.get(url)\n",
    "response.status_code\n",
    "response.ok"
   ]
  },
  {
   "cell_type": "code",
   "execution_count": 10,
   "id": "c6d1fdaf",
   "metadata": {},
   "outputs": [],
   "source": [
    "#check and make sure we got a successful response from the API\n",
    "# response.json()\n"
   ]
  },
  {
   "cell_type": "code",
   "execution_count": 11,
   "id": "ed4d3256",
   "metadata": {},
   "outputs": [
    {
     "data": {
      "text/plain": [
       "dict"
      ]
     },
     "execution_count": 11,
     "metadata": {},
     "output_type": "execute_result"
    }
   ],
   "source": [
    "#view the response as a JSON\n",
    "type(response.json())"
   ]
  },
  {
   "cell_type": "code",
   "execution_count": null,
   "id": "92e6cd2c",
   "metadata": {},
   "outputs": [],
   "source": []
  },
  {
   "cell_type": "code",
   "execution_count": 51,
   "id": "f074dfcf",
   "metadata": {},
   "outputs": [
    {
     "ename": "NameError",
     "evalue": "name 'response' is not defined",
     "output_type": "error",
     "traceback": [
      "\u001b[0;31m---------------------------------------------------------------------------\u001b[0m",
      "\u001b[0;31mNameError\u001b[0m                                 Traceback (most recent call last)",
      "Cell \u001b[0;32mIn [51], line 2\u001b[0m\n\u001b[1;32m      1\u001b[0m \u001b[39m# We only want the Driver Standings\u001b[39;00m\n\u001b[0;32m----> 2\u001b[0m driver_standings_data \u001b[39m=\u001b[39m response\u001b[39m.\u001b[39mjson()[\u001b[39m\"\u001b[39m\u001b[39mMRData\u001b[39m\u001b[39m\"\u001b[39m][\u001b[39m'\u001b[39m\u001b[39mStandingsTable\u001b[39m\u001b[39m'\u001b[39m][\u001b[39m'\u001b[39m\u001b[39mStandingsLists\u001b[39m\u001b[39m'\u001b[39m][\u001b[39m0\u001b[39m][\u001b[39m'\u001b[39m\u001b[39mDriverStandings\u001b[39m\u001b[39m'\u001b[39m]\n\u001b[1;32m      3\u001b[0m driver_standings_data\n",
      "\u001b[0;31mNameError\u001b[0m: name 'response' is not defined"
     ]
    }
   ],
   "source": [
    "# We only want the Driver Standings\n",
    "driver_standings_data = response.json()[\"MRData\"]['StandingsTable']['StandingsLists'][0]['DriverStandings']\n",
    "# driver_standings_data"
   ]
  },
  {
   "cell_type": "code",
   "execution_count": 71,
   "id": "be46a950",
   "metadata": {},
   "outputs": [
    {
     "ename": "NameError",
     "evalue": "name 'driver_standings_data' is not defined",
     "output_type": "error",
     "traceback": [
      "\u001b[0;31m---------------------------------------------------------------------------\u001b[0m",
      "\u001b[0;31mNameError\u001b[0m                                 Traceback (most recent call last)",
      "Cell \u001b[0;32mIn [71], line 2\u001b[0m\n\u001b[1;32m      1\u001b[0m \u001b[39m#use a for loop to display all driver full names\u001b[39;00m\n\u001b[0;32m----> 2\u001b[0m \u001b[39mfor\u001b[39;00m driver \u001b[39min\u001b[39;00m driver_standings_data:\n\u001b[1;32m      3\u001b[0m     \u001b[39mprint\u001b[39m(driver[\u001b[39m'\u001b[39m\u001b[39mDriver\u001b[39m\u001b[39m'\u001b[39m][\u001b[39m'\u001b[39m\u001b[39mgivenName\u001b[39m\u001b[39m'\u001b[39m], driver[\u001b[39m'\u001b[39m\u001b[39mDriver\u001b[39m\u001b[39m'\u001b[39m][\u001b[39m'\u001b[39m\u001b[39mfamilyName\u001b[39m\u001b[39m'\u001b[39m])\n",
      "\u001b[0;31mNameError\u001b[0m: name 'driver_standings_data' is not defined"
     ]
    }
   ],
   "source": [
    "#use a for loop to display all driver full names\n",
    "for driver in driver_standings_data:\n",
    "    print(driver['Driver']['givenName'], driver['Driver']['familyName'])"
   ]
  },
  {
   "cell_type": "code",
   "execution_count": 18,
   "id": "3740c752",
   "metadata": {},
   "outputs": [],
   "source": [
    "#create a function given certain driver info (givenName, familyName, dateofBirth, wins)\n",
    "\n",
    "def get_driver_info(data):\n",
    "    new_driver_data = []\n",
    "    for driver in data:\n",
    "        driver_dict = {}\n",
    "        full_name = driver['Driver']['givenName'] + ' ' + driver['Driver']['familyName']\n",
    "        driver_dict[full_name] = {\n",
    "            'DOB': driver['Driver']['dateOfBirth'],\n",
    "            'wins': driver['wins'],\n",
    "            'team': driver['Constructors'][0]['name']\n",
    "\n",
    "        }\n",
    "        new_driver_data.append(driver_dict)\n",
    "    return new_driver_data\n",
    "\n",
    "# get_driver_info(driver_standings_data)\n"
   ]
  },
  {
   "cell_type": "code",
   "execution_count": null,
   "id": "da790934",
   "metadata": {},
   "outputs": [],
   "source": [
    "#making a more flexible function to handle years and rounds "
   ]
  },
  {
   "cell_type": "markdown",
   "id": "6d546014",
   "metadata": {},
   "source": [
    "# <strong>Homework</strong>\n",
    "check out this Pokemon API https://pokeapi.co/\n",
    "Use the requests package to connect to this API and get and store data for 5 different pokemon.\n",
    "Get the pokemons: name, atleast one ability's name, base_experience, and the URL for its sprite (an image that shows up on screen) for the 'front_shiny', attack base_state, hp base_stat, defense base_stat"
   ]
  },
  {
   "cell_type": "code",
   "execution_count": 3,
   "id": "6086f5a0",
   "metadata": {},
   "outputs": [
    {
     "data": {
      "text/plain": [
       "{'squirtle': {'Base Experience:': 63,\n",
       "  'Abilities:': 'torrent',\n",
       "  'Image:': 'https://raw.githubusercontent.com/PokeAPI/sprites/master/sprites/pokemon/shiny/7.png',\n",
       "  'Attack Base_Stat:': 48,\n",
       "  'HP Base_Stat:': 44,\n",
       "  'Defense Base_Stat:': 65}}"
      ]
     },
     "execution_count": 3,
     "metadata": {},
     "output_type": "execute_result"
    }
   ],
   "source": [
    "import requests\n",
    "\n",
    "def get_pokemon_data(pokemon_name):\n",
    "    response = requests.get(f'https://pokeapi.co/api/v2/pokemon/{pokemon_name}')\n",
    "    if response.status_code != 200:\n",
    "        print(f'{pokemon_name} is not a valid pokemon name. Please double check your spelling.')\n",
    "    else:\n",
    "        data = response.json()\n",
    "        poke_profile = {}\n",
    "        poke_name = data['name']\n",
    "        poke_profile[poke_name] = {\n",
    "            \"Base Experience:\": data['base_experience'],\n",
    "            \"Abilities:\": data['abilities'][0]['ability']['name'],\n",
    "            \"Image:\": data['sprites']['front_shiny'],\n",
    "            \"Attack Base_Stat:\":data['stats'][1]['base_stat'],\n",
    "            \"HP Base_Stat:\" :data['stats'][0]['base_stat'],\n",
    "            \"Defense Base_Stat:\": data['stats'][2]['base_stat']\n",
    "        }\n",
    "        return poke_profile\n",
    "\n",
    "\n",
    "get_pokemon_data('squirtle')"
   ]
  },
  {
   "cell_type": "code",
   "execution_count": 2,
   "id": "61f6b1a6",
   "metadata": {},
   "outputs": [
    {
     "data": {
      "text/plain": [
       "{'ditto': {'Base Experience:': 101,\n",
       "  'Abilities:': 'limber',\n",
       "  'Image:': 'https://raw.githubusercontent.com/PokeAPI/sprites/master/sprites/pokemon/shiny/132.png',\n",
       "  'Attack Base_Stat:': 48,\n",
       "  'HP Base_Stat:': 48,\n",
       "  'Defense Base_Stat:': 48}}"
      ]
     },
     "execution_count": 2,
     "metadata": {},
     "output_type": "execute_result"
    }
   ],
   "source": [
    "get_pokemon_data('ditto')"
   ]
  },
  {
   "cell_type": "code",
   "execution_count": 4,
   "id": "fc0a016f",
   "metadata": {},
   "outputs": [
    {
     "data": {
      "text/plain": [
       "{'pichu': {'Base Experience:': 41,\n",
       "  'Abilities:': 'static',\n",
       "  'Image:': 'https://raw.githubusercontent.com/PokeAPI/sprites/master/sprites/pokemon/shiny/172.png',\n",
       "  'Attack Base_Stat:': 40,\n",
       "  'HP Base_Stat:': 20,\n",
       "  'Defense Base_Stat:': 15}}"
      ]
     },
     "execution_count": 4,
     "metadata": {},
     "output_type": "execute_result"
    }
   ],
   "source": [
    "get_pokemon_data('pichu')"
   ]
  },
  {
   "cell_type": "code",
   "execution_count": 5,
   "id": "b1a6424a",
   "metadata": {},
   "outputs": [
    {
     "data": {
      "text/plain": [
       "{'charizard': {'Base Experience:': 267,\n",
       "  'Abilities:': 'blaze',\n",
       "  'Image:': 'https://raw.githubusercontent.com/PokeAPI/sprites/master/sprites/pokemon/shiny/6.png',\n",
       "  'Attack Base_Stat:': 84,\n",
       "  'HP Base_Stat:': 78,\n",
       "  'Defense Base_Stat:': 78}}"
      ]
     },
     "execution_count": 5,
     "metadata": {},
     "output_type": "execute_result"
    }
   ],
   "source": [
    "get_pokemon_data('charizard')"
   ]
  },
  {
   "cell_type": "code",
   "execution_count": 6,
   "id": "b6d125fc",
   "metadata": {},
   "outputs": [
    {
     "data": {
      "text/plain": [
       "{'charmander': {'Base Experience:': 62,\n",
       "  'Abilities:': 'blaze',\n",
       "  'Image:': 'https://raw.githubusercontent.com/PokeAPI/sprites/master/sprites/pokemon/shiny/4.png',\n",
       "  'Attack Base_Stat:': 52,\n",
       "  'HP Base_Stat:': 39,\n",
       "  'Defense Base_Stat:': 43}}"
      ]
     },
     "execution_count": 6,
     "metadata": {},
     "output_type": "execute_result"
    }
   ],
   "source": [
    "get_pokemon_data('charmander')"
   ]
  },
  {
   "cell_type": "code",
   "execution_count": null,
   "id": "13fbc14f",
   "metadata": {},
   "outputs": [],
   "source": []
  }
 ],
 "metadata": {
  "kernelspec": {
   "display_name": "Python 3.9.7 64-bit",
   "language": "python",
   "name": "python3"
  },
  "language_info": {
   "codemirror_mode": {
    "name": "ipython",
    "version": 3
   },
   "file_extension": ".py",
   "mimetype": "text/x-python",
   "name": "python",
   "nbconvert_exporter": "python",
   "pygments_lexer": "ipython3",
   "version": "3.9.7"
  },
  "vscode": {
   "interpreter": {
    "hash": "aee8b7b246df8f9039afb4144a1f6fd8d2ca17a180786b69acc140d282b71a49"
   }
  }
 },
 "nbformat": 4,
 "nbformat_minor": 5
}
